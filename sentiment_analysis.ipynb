{
 "cells": [
  {
   "cell_type": "markdown",
   "id": "03c09034-8e5e-4fae-8a30-8e8dd1ca47de",
   "metadata": {},
   "source": [
    "### Sentiment Analysis"
   ]
  },
  {
   "cell_type": "code",
   "execution_count": 46,
   "id": "07aa5e68-0498-4b14-b7a7-74f7b9cdcb94",
   "metadata": {},
   "outputs": [],
   "source": [
    "#imports\n",
    "\n",
    "import os\n",
    "import numpy as np\n",
    "import pandas as pd\n",
    "import random\n",
    "import re\n",
    "\n",
    "from sklearn.model_selection import train_test_split\n",
    "\n",
    "import nltk\n",
    "from nltk.tokenize import word_tokenize\n",
    "from nltk.corpus import stopwords\n",
    "\n",
    "import seaborn as sns\n",
    "import shutil\n",
    "import string\n",
    "import matplotlib.pyplot as plt\n",
    "\n",
    "from collections import Counter\n",
    "\n",
    "\n",
    "#import tensorflow as tf\n",
    "#from tensorflow.keras import layers\n",
    "#from tensorflow.keras import losses\n"
   ]
  },
  {
   "cell_type": "code",
   "execution_count": 32,
   "id": "3e73c4b8-b9f8-4c2f-80f2-7e4ce54d95a6",
   "metadata": {},
   "outputs": [],
   "source": [
    "# Load the AFINN lexicon\n",
    "afinn = {}\n",
    "with open('AFINN-111.txt', 'r') as afinn_file:\n",
    "    for line in afinn_file:\n",
    "        term, score = line.strip().split('\\t')\n",
    "        afinn[term] = int(score)"
   ]
  },
  {
   "cell_type": "code",
   "execution_count": 27,
   "id": "056b91f7-0d41-457f-8b04-5b8fc83da3a8",
   "metadata": {},
   "outputs": [
    {
     "data": {
      "text/html": [
       "<div>\n",
       "<style scoped>\n",
       "    .dataframe tbody tr th:only-of-type {\n",
       "        vertical-align: middle;\n",
       "    }\n",
       "\n",
       "    .dataframe tbody tr th {\n",
       "        vertical-align: top;\n",
       "    }\n",
       "\n",
       "    .dataframe thead th {\n",
       "        text-align: right;\n",
       "    }\n",
       "</style>\n",
       "<table border=\"1\" class=\"dataframe\">\n",
       "  <thead>\n",
       "    <tr style=\"text-align: right;\">\n",
       "      <th></th>\n",
       "      <th>Restaurant</th>\n",
       "      <th>Reviewer</th>\n",
       "      <th>Review</th>\n",
       "      <th>Rating</th>\n",
       "      <th>Metadata</th>\n",
       "      <th>Time</th>\n",
       "      <th>Pictures</th>\n",
       "      <th>7514</th>\n",
       "    </tr>\n",
       "  </thead>\n",
       "  <tbody>\n",
       "    <tr>\n",
       "      <th>0</th>\n",
       "      <td>Beyond Flavours</td>\n",
       "      <td>Rusha Chakraborty</td>\n",
       "      <td>The ambience was good, food was quite good . h...</td>\n",
       "      <td>5</td>\n",
       "      <td>1 Review , 2 Followers</td>\n",
       "      <td>5/25/2019 15:54</td>\n",
       "      <td>0</td>\n",
       "      <td>2447.0</td>\n",
       "    </tr>\n",
       "    <tr>\n",
       "      <th>1</th>\n",
       "      <td>Beyond Flavours</td>\n",
       "      <td>Anusha Tirumalaneedi</td>\n",
       "      <td>Ambience is too good for a pleasant evening. S...</td>\n",
       "      <td>5</td>\n",
       "      <td>3 Reviews , 2 Followers</td>\n",
       "      <td>5/25/2019 14:20</td>\n",
       "      <td>0</td>\n",
       "      <td>NaN</td>\n",
       "    </tr>\n",
       "    <tr>\n",
       "      <th>2</th>\n",
       "      <td>Beyond Flavours</td>\n",
       "      <td>Ashok Shekhawat</td>\n",
       "      <td>A must try.. great food great ambience. Thnx f...</td>\n",
       "      <td>5</td>\n",
       "      <td>2 Reviews , 3 Followers</td>\n",
       "      <td>5/24/2019 22:54</td>\n",
       "      <td>0</td>\n",
       "      <td>NaN</td>\n",
       "    </tr>\n",
       "    <tr>\n",
       "      <th>3</th>\n",
       "      <td>Beyond Flavours</td>\n",
       "      <td>Swapnil Sarkar</td>\n",
       "      <td>Soumen das and Arun was a great guy. Only beca...</td>\n",
       "      <td>5</td>\n",
       "      <td>1 Review , 1 Follower</td>\n",
       "      <td>5/24/2019 22:11</td>\n",
       "      <td>0</td>\n",
       "      <td>NaN</td>\n",
       "    </tr>\n",
       "    <tr>\n",
       "      <th>4</th>\n",
       "      <td>Beyond Flavours</td>\n",
       "      <td>Dileep</td>\n",
       "      <td>Food is good.we ordered Kodi drumsticks and ba...</td>\n",
       "      <td>5</td>\n",
       "      <td>3 Reviews , 2 Followers</td>\n",
       "      <td>5/24/2019 21:37</td>\n",
       "      <td>0</td>\n",
       "      <td>NaN</td>\n",
       "    </tr>\n",
       "  </tbody>\n",
       "</table>\n",
       "</div>"
      ],
      "text/plain": [
       "        Restaurant              Reviewer  \\\n",
       "0  Beyond Flavours     Rusha Chakraborty   \n",
       "1  Beyond Flavours  Anusha Tirumalaneedi   \n",
       "2  Beyond Flavours       Ashok Shekhawat   \n",
       "3  Beyond Flavours        Swapnil Sarkar   \n",
       "4  Beyond Flavours                Dileep   \n",
       "\n",
       "                                              Review Rating  \\\n",
       "0  The ambience was good, food was quite good . h...      5   \n",
       "1  Ambience is too good for a pleasant evening. S...      5   \n",
       "2  A must try.. great food great ambience. Thnx f...      5   \n",
       "3  Soumen das and Arun was a great guy. Only beca...      5   \n",
       "4  Food is good.we ordered Kodi drumsticks and ba...      5   \n",
       "\n",
       "                  Metadata             Time  Pictures    7514  \n",
       "0   1 Review , 2 Followers  5/25/2019 15:54         0  2447.0  \n",
       "1  3 Reviews , 2 Followers  5/25/2019 14:20         0     NaN  \n",
       "2  2 Reviews , 3 Followers  5/24/2019 22:54         0     NaN  \n",
       "3    1 Review , 1 Follower  5/24/2019 22:11         0     NaN  \n",
       "4  3 Reviews , 2 Followers  5/24/2019 21:37         0     NaN  "
      ]
     },
     "execution_count": 27,
     "metadata": {},
     "output_type": "execute_result"
    }
   ],
   "source": [
    "# step 1: Get data.\n",
    "# data from Kaggle: Restaurant Reviews\n",
    "data = pd.read_csv('restaurant_reviews.csv')\n",
    "\n",
    "data.head()\n",
    "    "
   ]
  },
  {
   "cell_type": "code",
   "execution_count": 28,
   "id": "47bda4ab-4fec-45e6-beb1-527c88a04a0b",
   "metadata": {},
   "outputs": [
    {
     "name": "stdout",
     "output_type": "stream",
     "text": [
      "0       The ambience was good, food was quite good . h...\n",
      "1       Ambience is too good for a pleasant evening. S...\n",
      "2       A must try.. great food great ambience. Thnx f...\n",
      "3       Soumen das and Arun was a great guy. Only beca...\n",
      "4       Food is good.we ordered Kodi drumsticks and ba...\n",
      "                              ...                        \n",
      "9995    Madhumathi Mahajan Well to start with nice cou...\n",
      "9996    This place has never disappointed us.. The foo...\n",
      "9997    Bad rating is mainly because of \"Chicken Bone ...\n",
      "9998    I personally love and prefer Chinese Food. Had...\n",
      "9999    Checked in here to try some delicious chinese ...\n",
      "Name: Review, Length: 10000, dtype: object\n"
     ]
    },
    {
     "data": {
      "text/plain": [
       "(array([1735.,    9.,  684.,   19.,    0., 1193.,   47., 2373.,   69.,\n",
       "        3832.]),\n",
       " array([1. , 1.4, 1.8, 2.2, 2.6, 3. , 3.4, 3.8, 4.2, 4.6, 5. ]),\n",
       " <BarContainer object of 10 artists>)"
      ]
     },
     "execution_count": 28,
     "metadata": {},
     "output_type": "execute_result"
    },
    {
     "data": {
      "image/png": "[encoded data removed]",
      "text/plain": [
       "<Figure size 432x288 with 1 Axes>"
      ]
     },
     "metadata": {
      "needs_background": "light"
     },
     "output_type": "display_data"
    }
   ],
   "source": [
    "print(data['Review'])\n",
    "#data['Restaurant'].unique()\n",
    "plt.hist(pd.to_numeric(data['Rating'], errors ='coerce'))"
   ]
  },
  {
   "cell_type": "markdown",
   "id": "a1e02802-ea9e-4007-9f75-f8ffd6019473",
   "metadata": {},
   "source": [
    "Model ideas.\n",
    "1) Simple, Naive Rule-based classifier\n",
    "\n",
    "This approach would classify a rating by breaking it down into words, matching each word to a \"sentiment score\" and adding it together to get an approximate Sentiment Rating.\n",
    "\n",
    "Break down and manage the text using NLTK\n",
    "Assign sentiment scores using a Sentiment Lexicon (will try Afinn first)\n",
    "Compile sentiment scores and return final score\n",
    "Compare to rating given for validation/cross validation."
   ]
  },
  {
   "cell_type": "code",
   "execution_count": 29,
   "id": "559861d7-666e-4f54-be6d-0a46773f9617",
   "metadata": {},
   "outputs": [
    {
     "name": "stdout",
     "output_type": "stream",
     "text": [
      "3648\n",
      "Visited here for buffet with my office team ,the place was very nice , ambience was very good and there is no veg biryani in buffet but they provided after asking that was very nice \n",
      "\n",
      "Overall experience- Good \n",
      "\n",
      "Will visit again and try some other dishes .\n"
     ]
    }
   ],
   "source": [
    "#model 1\n",
    "\n",
    "#start with just one review.\n",
    "n = random.randint(0,9999)\n",
    "review = data['Review'][n]\n",
    "print(n)\n",
    "print(review)"
   ]
  },
  {
   "cell_type": "code",
   "execution_count": 30,
   "id": "5033c461-4fcc-46f1-ac0e-3db8a6e46e10",
   "metadata": {},
   "outputs": [
    {
     "name": "stdout",
     "output_type": "stream",
     "text": [
      "['visited', 'buffet', 'office', 'team', 'place', 'nice', 'ambience', 'good', 'veg', 'biryani', 'buffet', 'provided', 'asking', 'nice', 'overall', 'good', 'visit', 'try', 'dishes']\n"
     ]
    }
   ],
   "source": [
    "# cleaning and preprocessing necessary. using nltk\n",
    "\n",
    "review = review.lower()\n",
    "tokens = word_tokenize(review)\n",
    "tokens = [word for word in tokens if word.isalnum() and word not in stopwords.words('english')]\n",
    "print(tokens)"
   ]
  },
  {
   "cell_type": "code",
   "execution_count": 33,
   "id": "64b1872e-0e0c-4efc-88b0-116e3425b390",
   "metadata": {},
   "outputs": [
    {
     "name": "stdout",
     "output_type": "stream",
     "text": [
      "[0, 0, 0, 0, 0, 3, 0, 3, 0, 0, 0, 0, 0, 3, 0, 3, 0, 0, 0]\n"
     ]
    }
   ],
   "source": [
    "# Assign sentiment scores to words\n",
    "sentiment_scores = [afinn.get(word, 0) for word in tokens]\n",
    "print(sentiment_scores)"
   ]
  },
  {
   "cell_type": "code",
   "execution_count": 34,
   "id": "304e789e-8f51-4aed-bccc-a4f106d4e849",
   "metadata": {},
   "outputs": [
    {
     "data": {
      "text/plain": [
       "12"
      ]
     },
     "execution_count": 34,
     "metadata": {},
     "output_type": "execute_result"
    }
   ],
   "source": [
    "sum(sentiment_scores)"
   ]
  },
  {
   "cell_type": "markdown",
   "id": "1f29e87f-7956-4d7e-9230-6b0bf1b41946",
   "metadata": {},
   "source": [
    "After some exploration with this method, I now want to try to do it with a larger portion of the data and produce some tables and graphs about the results I get."
   ]
  },
  {
   "cell_type": "code",
   "execution_count": 35,
   "id": "ba441b57-dff0-4647-83bd-87a652fdb4cf",
   "metadata": {},
   "outputs": [
    {
     "name": "stdout",
     "output_type": "stream",
     "text": [
      "100\n"
     ]
    }
   ],
   "source": [
    "#take first r reviews\n",
    "# n = total - r\n",
    "n = 9900\n",
    "sample_reviews, _ = train_test_split(data['Review'], test_size=n/len(data['Review']), random_state=42)\n",
    "\n",
    "sample_reviews.head()\n",
    "indices = sample_reviews.index.tolist()\n",
    "print(len(indices))"
   ]
  },
  {
   "cell_type": "code",
   "execution_count": 36,
   "id": "04c7e4be-5cc7-4d76-b38a-e0629cce0129",
   "metadata": {},
   "outputs": [
    {
     "name": "stdout",
     "output_type": "stream",
     "text": [
      "[8, 17, 5, 0, 7, -5, 12, 8, 14, 6, -2, -1, 30, 10, 14, 8, 3, 9, 8, 3, -5, 3, 3, 18, 6, 0, 9, 5, 8, 0, 10, 20, 8, 9, 0, 6, 6, 8, 40, 10, 3, 14, 0, 19, 3, 16, -5, 0, -6, -2, 13, 50, -4, 2, -2, 8, 14, 16, 0, 0, 9, 3, 7, 3, 0, 0, 4, 4, 4, 28, 12, 6, 9, 11, -7, 10, 9, 3, 5, 0, 8, 3, 3, -2, 9, 16, 7, 8, -3, 3, 10, 1, -5, 21, 0, 0, 3, 0, 10, 3]\n"
     ]
    }
   ],
   "source": [
    "#clean it\n",
    "\n",
    "def clean(text):\n",
    "    if isinstance(text, str):\n",
    "        text = text.lower()  \n",
    "        tokens = word_tokenize(text)\n",
    "        tokens = [word for word in tokens if word.isalnum() and word not in stopwords.words('english')]\n",
    "        return tokens\n",
    "    else:\n",
    "        # If text is not string, return it as is\n",
    "        pass\n",
    "\n",
    "clean_reviews = [clean(text) for text in sample_reviews]\n",
    "\n",
    "#print(clean_reviews.head())\n",
    "\n",
    "#  calculate score\n",
    "\n",
    "#def calculate(text):\n",
    "#    sentiment_scores = [afinn.get(word, 0) for word in text]\n",
    "#    return sum(sentiment_scores)\n",
    "\n",
    "def calculate2(text):\n",
    "    errcounter = 0\n",
    "    if text is None:\n",
    "        #print(\"error found! \")\n",
    "        #errcounter += 1\n",
    "        #print(errcounter)\n",
    "        return 0\n",
    "    sentiment_scores = [afinn.get(word, 0) for word in text]\n",
    "    return sum(sentiment_scores)\n",
    "\n",
    "sample_scores = [calculate2(text) for text in clean_reviews]\n",
    "\n",
    "print(sample_scores)"
   ]
  },
  {
   "cell_type": "code",
   "execution_count": 37,
   "id": "a03cd654-1ee2-4256-a6e7-ea389aad8290",
   "metadata": {},
   "outputs": [
    {
     "name": "stdout",
     "output_type": "stream",
     "text": [
      "['3', '5', '5', '5', '5', '2', '5', '4', '5', '4', '1', '1', '3', '4', '4', '4', '5', '5', '4', '4', '2', '3', '5', '5', '5', '2', '1', '3', '5', '1', '5', '4', '4.5', '4', '1', '3', '5', '5', '5', '5', '4', '5', '1', '3', '5', '4', '1', '1', '1', '1', '4', '4', '2', '4', '2', '4', '5', '4', '1', nan, '4', '5', '4', '4', '1', '1', '5', '4', '5', '4', '5', '5', '3', '5', '1', '5', '4', '5', '4', '2', '5', '5', '4', '1', '4', '4', '3', '5', '1', '5', '5', '1', '1', '5', '4', '2', '5', '4', '3', '5']\n",
      "[8, 17, 5, 0, 7, -5, 12, 8, 14, 6, -2, -1, 30, 10, 14, 8, 3, 9, 8, 3, -5, 3, 3, 18, 6, 0, 9, 5, 8, 0, 10, 20, 8, 9, 0, 6, 6, 8, 40, 10, 3, 14, 0, 19, 3, 16, -5, 0, -6, -2, 13, 50, -4, 2, -2, 8, 14, 16, 0, 0, 9, 3, 7, 3, 0, 0, 4, 4, 4, 28, 12, 6, 9, 11, -7, 10, 9, 3, 5, 0, 8, 3, 3, -2, 9, 16, 7, 8, -3, 3, 10, 1, -5, 21, 0, 0, 3, 0, 10, 3]\n"
     ]
    }
   ],
   "source": [
    "original_ratings = data['Rating'].iloc[indices].values.tolist()\n",
    "\n",
    "print(original_ratings)\n",
    "print(sample_scores)\n",
    "\n",
    "original_ratings.pop(59)\n",
    "sample_scores.pop(59)\n",
    "\n",
    "float_ratings = [float(x) if x != 'nan' else float('nan') for x in original_ratings]\n"
   ]
  },
  {
   "cell_type": "code",
   "execution_count": 128,
   "id": "c651ac60-9326-4207-a28f-6a7b0fef7e9a",
   "metadata": {},
   "outputs": [
    {
     "data": {
      "image/png": "[encoded data removed]",
      "text/plain": [
       "<Figure size 432x288 with 1 Axes>"
      ]
     },
     "metadata": {
      "needs_background": "light"
     },
     "output_type": "display_data"
    }
   ],
   "source": [
    "#graph of calculated scores vs empiric rating\n",
    "\n",
    "plt.scatter(float_ratings, sample_scores)\n",
    "plt.xlabel('Original Ratings')\n",
    "plt.ylabel('Calculated Sentiment Scores')\n",
    "plt.title('Relationship between Ratings and Sentiment Scores')\n",
    "plt.show()"
   ]
  },
  {
   "cell_type": "code",
   "execution_count": 142,
   "id": "86c6cf7b-6a66-4743-bc16-eba4e1a4ae1b",
   "metadata": {},
   "outputs": [
    {
     "data": {
      "image/png": "[encoded data removed]",
      "text/plain": [
       "<Figure size 432x288 with 1 Axes>"
      ]
     },
     "metadata": {
      "needs_background": "light"
     },
     "output_type": "display_data"
    }
   ],
   "source": [
    "plt.scatter(sample_scores, float_ratings)\n",
    "plt.ylabel('Original Ratings')\n",
    "plt.xticks([-5,0,5,10,15,20,25,30,35,40,45,50])\n",
    "plt.axvline(0,color='r')\n",
    "plt.xlabel('Calculated Sentiment Scores')\n",
    "plt.title('Relationship between Ratings and Sentiment Scores')\n",
    "plt.show()"
   ]
  },
  {
   "cell_type": "markdown",
   "id": "e61aad02-ef30-4694-947a-4cb2ecf3e584",
   "metadata": {},
   "source": [
    "\n",
    "The first detail about the graph produced that is evident is the fact that on the y axis, most numbers are above 0. even for the \n",
    "\n",
    "suppose we set a classification barrier at 0 (red line). Then all data points under 0 would be classified as negative, which we see aligns with scores 1 and 2 of original ratings. \n",
    "positive scores would be classed as positive\n",
    "\n",
    "\n",
    "This seems pretty good aside from some outliers. one interesting one is that one datapoint on 1 would be classified as "
   ]
  },
  {
   "cell_type": "code",
   "execution_count": null,
   "id": "13bd635c-f6ca-4bbe-8b5b-48af8d10e3b9",
   "metadata": {},
   "outputs": [],
   "source": [
    "#graph/table of misclassification errors."
   ]
  },
  {
   "cell_type": "markdown",
   "id": "f5211c58-91c3-4365-a2db-e4a5fb0f5243",
   "metadata": {},
   "source": [
    "## Stage 2. "
   ]
  },
  {
   "cell_type": "code",
   "execution_count": 68,
   "id": "48c91803-3e5f-40b9-a96a-60cae8536379",
   "metadata": {},
   "outputs": [],
   "source": [
    "import torch\n",
    "import torchtext\n",
    "import torch.nn.functional as F\n",
    "import torch.nn as nn\n",
    "from torchtext import data\n",
    "from torch.utils.data import DataLoader, TensorDataset"
   ]
  },
  {
   "cell_type": "code",
   "execution_count": null,
   "id": "d32c7765-aca9-44b4-8e2a-10327f56adca",
   "metadata": {},
   "outputs": [],
   "source": []
  },
  {
   "cell_type": "code",
   "execution_count": 69,
   "id": "3ac1dbf0-1e3e-4b66-9aca-3a6f5289aca7",
   "metadata": {},
   "outputs": [],
   "source": [
    "#General things\n",
    "\n",
    "vocab_size = 20000\n",
    "sigma_lr = 0.005 #Learning Rate\n",
    "batch_size = 128\n",
    "epochs = 15\n",
    "\n",
    "embed_dim = 128\n",
    "hidden_dim = 256\n",
    "n_classes = 2\n",
    "n_layers = 2\n",
    "dropout = 0.5"
   ]
  },
  {
   "cell_type": "code",
   "execution_count": 14,
   "id": "147cf6f4-9613-4597-aa28-30820608c57c",
   "metadata": {},
   "outputs": [],
   "source": [
    "new_data = data[['Review','Rating']]"
   ]
  },
  {
   "cell_type": "code",
   "execution_count": 15,
   "id": "8b249718-7e31-41ff-9439-20861d29ece5",
   "metadata": {},
   "outputs": [
    {
     "data": {
      "text/html": [
       "<div>\n",
       "<style scoped>\n",
       "    .dataframe tbody tr th:only-of-type {\n",
       "        vertical-align: middle;\n",
       "    }\n",
       "\n",
       "    .dataframe tbody tr th {\n",
       "        vertical-align: top;\n",
       "    }\n",
       "\n",
       "    .dataframe thead th {\n",
       "        text-align: right;\n",
       "    }\n",
       "</style>\n",
       "<table border=\"1\" class=\"dataframe\">\n",
       "  <thead>\n",
       "    <tr style=\"text-align: right;\">\n",
       "      <th></th>\n",
       "      <th>Review</th>\n",
       "      <th>Rating</th>\n",
       "    </tr>\n",
       "  </thead>\n",
       "  <tbody>\n",
       "    <tr>\n",
       "      <th>0</th>\n",
       "      <td>The ambience was good, food was quite good . h...</td>\n",
       "      <td>5</td>\n",
       "    </tr>\n",
       "    <tr>\n",
       "      <th>1</th>\n",
       "      <td>Ambience is too good for a pleasant evening. S...</td>\n",
       "      <td>5</td>\n",
       "    </tr>\n",
       "    <tr>\n",
       "      <th>2</th>\n",
       "      <td>A must try.. great food great ambience. Thnx f...</td>\n",
       "      <td>5</td>\n",
       "    </tr>\n",
       "    <tr>\n",
       "      <th>3</th>\n",
       "      <td>Soumen das and Arun was a great guy. Only beca...</td>\n",
       "      <td>5</td>\n",
       "    </tr>\n",
       "    <tr>\n",
       "      <th>4</th>\n",
       "      <td>Food is good.we ordered Kodi drumsticks and ba...</td>\n",
       "      <td>5</td>\n",
       "    </tr>\n",
       "  </tbody>\n",
       "</table>\n",
       "</div>"
      ],
      "text/plain": [
       "                                              Review Rating\n",
       "0  The ambience was good, food was quite good . h...      5\n",
       "1  Ambience is too good for a pleasant evening. S...      5\n",
       "2  A must try.. great food great ambience. Thnx f...      5\n",
       "3  Soumen das and Arun was a great guy. Only beca...      5\n",
       "4  Food is good.we ordered Kodi drumsticks and ba...      5"
      ]
     },
     "execution_count": 15,
     "metadata": {},
     "output_type": "execute_result"
    }
   ],
   "source": [
    "new_data.head()"
   ]
  },
  {
   "cell_type": "code",
   "execution_count": 40,
   "id": "5a93c434-b868-4208-abfe-1156287e140e",
   "metadata": {},
   "outputs": [],
   "source": [
    "X = new_data.drop(columns=['Rating'])\n",
    "Y = new_data['Rating']\n",
    "\n",
    "X_train, X_text, Y_train, Y_test = train_test_split(X,Y,test_size=0.2,random_state=42)\n"
   ]
  },
  {
   "cell_type": "code",
   "execution_count": 41,
   "id": "94ab59a3-08ac-4d2d-aa44-44dc1da4bd07",
   "metadata": {},
   "outputs": [
    {
     "data": {
      "text/plain": [
       "5      3064\n",
       "4      1885\n",
       "1      1402\n",
       "3       948\n",
       "2       548\n",
       "4.5      61\n",
       "3.5      40\n",
       "2.5      13\n",
       "1.5       9\n",
       "Name: Rating, dtype: int64"
      ]
     },
     "execution_count": 41,
     "metadata": {},
     "output_type": "execute_result"
    }
   ],
   "source": [
    "Y_train.value_counts()"
   ]
  },
  {
   "cell_type": "code",
   "execution_count": 48,
   "id": "3c7a2ee0-5a03-466a-86f8-b1715e45f8d2",
   "metadata": {},
   "outputs": [
    {
     "name": "stdout",
     "output_type": "stream",
     "text": [
      "Counter({'review': 1})\n"
     ]
    }
   ],
   "source": [
    "tokens = [word_tokenize(review.lower()) for review in X_train]\n",
    "all_tokens = [token for sublist in tokens for token in sublist]\n",
    "vocab = Counter(all_tokens)\n",
    "print(vocab)"
   ]
  },
  {
   "cell_type": "code",
   "execution_count": 52,
   "id": "4af6cc0f-eaf3-42bc-83ae-403ddd3dccfc",
   "metadata": {},
   "outputs": [
    {
     "data": {
      "text/plain": [
       "9254    Went for a dinner buffet for a family gatherin...\n",
       "1561                                        excellent job\n",
       "1670    a must visit for great North Indian food, reli...\n",
       "6087    Excellent place! Perfect for an after work bee...\n",
       "6669                                         good service\n",
       "Name: Review, dtype: object"
      ]
     },
     "execution_count": 52,
     "metadata": {},
     "output_type": "execute_result"
    }
   ],
   "source": [
    "X_train['Review'].head()"
   ]
  },
  {
   "cell_type": "code",
   "execution_count": 60,
   "id": "ed2bac8e-5def-41fc-aa03-c2a84cc378b5",
   "metadata": {},
   "outputs": [],
   "source": [
    "tokenized_reviews = X_train['Review'].apply(lambda x: word_tokenize(str(x).lower()))"
   ]
  },
  {
   "cell_type": "code",
   "execution_count": 56,
   "id": "9de20749-e086-4570-89b1-efe78387a22d",
   "metadata": {},
   "outputs": [
    {
     "data": {
      "text/plain": [
       "9254    [went, for, a, dinner, buffet, for, a, family,...\n",
       "1561                                     [excellent, job]\n",
       "1670    [a, must, visit, for, great, north, indian, fo...\n",
       "6087    [excellent, place, !, perfect, for, an, after,...\n",
       "6669                                      [good, service]\n",
       "Name: Tokenized_text, dtype: object"
      ]
     },
     "execution_count": 56,
     "metadata": {},
     "output_type": "execute_result"
    }
   ],
   "source": [
    "X_train['Tokenized_text'].head()"
   ]
  },
  {
   "cell_type": "code",
   "execution_count": 61,
   "id": "b8271a8b-7d6e-474f-ad8d-c4709694b86c",
   "metadata": {},
   "outputs": [],
   "source": [
    "all_tokens = [token for review in tokenized_reviews for token in review]\n",
    "\n",
    "vocab = Counter(all_tokens)\n",
    "\n",
    "word_to_index = {word: index for index, (word, _) in enumerate(vocab.items())}\n",
    "index_to_word = {index: word for word, index in word_to_index.items()}\n",
    "\n",
    "# Vocabulary size\n",
    "vocab_size = len(word_to_index)"
   ]
  },
  {
   "cell_type": "code",
   "execution_count": 66,
   "id": "7a2f33fb-39fc-434a-8718-92affc58d5b8",
   "metadata": {},
   "outputs": [
    {
     "name": "stdout",
     "output_type": "stream",
     "text": [
      "16366\n"
     ]
    }
   ],
   "source": [
    "print(vocab_size)"
   ]
  },
  {
   "cell_type": "code",
   "execution_count": 71,
   "id": "f7197b5f-ff91-45c6-baa5-de123af66a47",
   "metadata": {},
   "outputs": [
    {
     "name": "stdout",
     "output_type": "stream",
     "text": [
      "RNN(\n",
      "  (embedding): Embedding(20000, 128)\n",
      "  (rnn): LSTM(128, 256, num_layers=2, batch_first=True, dropout=0.5)\n",
      "  (fc): Linear(in_features=256, out_features=2, bias=True)\n",
      "  (dropout): Dropout(p=0.5, inplace=False)\n",
      ")\n"
     ]
    }
   ],
   "source": [
    "embedding = nn.Embedding(vocab_size, embed_dim)\n",
    "\n",
    "class RNN(nn.Module):\n",
    "    def __init__(self, embed_dim, hidden_dim, n_layers, n_classes, dropout):\n",
    "        super().__init__()\n",
    "        self.embedding = embedding\n",
    "        self.rnn = nn.LSTM(embed_dim, hidden_dim, n_layers, dropout=dropout, batch_first=True)\n",
    "        self.fc = nn.Linear(hidden_dim, n_classes)\n",
    "        self.dropout = nn.Dropout(dropout)\n",
    "        \n",
    "    def forward(self, text):\n",
    "        embedded = self.embedding(text)\n",
    "        output, (hidden, cell) = self.rnn(embedded)\n",
    "        hidden = self.dropout(hidden[-1, :, :])  # Use the last hidden state\n",
    "        return self.fc(hidden)   \n",
    "    \n",
    "    \n",
    "    \n",
    "model = RNN(embed_dim, hidden_dim, n_layers, n_classes, dropout)\n",
    "\n",
    "print(model)"
   ]
  },
  {
   "cell_type": "code",
   "execution_count": null,
   "id": "9335593c-1655-45c0-b896-f9edd25b85c5",
   "metadata": {},
   "outputs": [],
   "source": []
  }
 ],
 "metadata": {
  "kernelspec": {
   "display_name": "Python 3",
   "language": "python",
   "name": "python3"
  },
  "language_info": {
   "codemirror_mode": {
    "name": "ipython",
    "version": 3
   },
   "file_extension": ".py",
   "mimetype": "text/x-python",
   "name": "python",
   "nbconvert_exporter": "python",
   "pygments_lexer": "ipython3",
   "version": "3.8.8"
  }
 },
 "nbformat": 4,
 "nbformat_minor": 5
}
